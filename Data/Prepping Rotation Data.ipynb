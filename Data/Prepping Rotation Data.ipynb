{
 "cells": [
  {
   "cell_type": "code",
   "execution_count": 83,
   "metadata": {},
   "outputs": [],
   "source": [
    "import numpy as np\n",
    "import matplotlib.pyplot as plt\n",
    "import pandas as pd\n",
    "%matplotlib inline\n",
    "plt.rcParams['figure.figsize'] = 16,9\n",
    "plt.rcParams['font.size'] = 22"
   ]
  },
  {
   "cell_type": "code",
   "execution_count": 84,
   "metadata": {},
   "outputs": [],
   "source": [
    "# https://stackoverflow.com/questions/37119071/scipy-rotate-and-zoom-an-image-without-changing-its-dimensions\n",
    "import numpy as np\n",
    "from scipy.ndimage import zoom\n",
    "\n",
    "\n",
    "def clipped_zoom(img, zoom_factor, **kwargs):\n",
    "\n",
    "    h, w = img.shape[:2]\n",
    "\n",
    "    # For multichannel images we don't want to apply the zoom factor to the RGB\n",
    "    # dimension, so instead we create a tuple of zoom factors, one per array\n",
    "    # dimension, with 1's for any trailing dimensions after the width and height.\n",
    "    zoom_tuple = (zoom_factor,) * 2 + (1,) * (img.ndim - 2)\n",
    "\n",
    "    # Zooming out\n",
    "    if zoom_factor < 1:\n",
    "\n",
    "        # Bounding box of the zoomed-out image within the output array\n",
    "        zh = int(np.round(h * zoom_factor))\n",
    "        zw = int(np.round(w * zoom_factor))\n",
    "        top = (h - zh) // 2\n",
    "        left = (w - zw) // 2\n",
    "\n",
    "        # Zero-padding\n",
    "        out = np.zeros_like(img)\n",
    "        out[top:top+zh, left:left+zw] = zoom(img, zoom_tuple, **kwargs)\n",
    "\n",
    "    # Zooming in\n",
    "    elif zoom_factor > 1:\n",
    "\n",
    "        # Bounding box of the zoomed-in region within the input array\n",
    "        zh = int(np.round(h / zoom_factor))\n",
    "        zw = int(np.round(w / zoom_factor))\n",
    "        top = (h - zh) // 2\n",
    "        left = (w - zw) // 2\n",
    "\n",
    "        out = zoom(img[top:top+zh, left:left+zw], zoom_tuple, **kwargs)\n",
    "\n",
    "        # `out` might still be slightly larger than `img` due to rounding, so\n",
    "        # trim off any extra pixels at the edges\n",
    "        trim_top = ((out.shape[0] - h) // 2)\n",
    "        trim_left = ((out.shape[1] - w) // 2)\n",
    "        out = out[trim_top:trim_top+h, trim_left:trim_left+w]\n",
    "\n",
    "    # If zoom_factor == 1, just return the input array\n",
    "    else:\n",
    "        out = img\n",
    "    return out"
   ]
  },
  {
   "cell_type": "code",
   "execution_count": 85,
   "metadata": {},
   "outputs": [],
   "source": [
    "rot_tgts = pd.read_csv('sphere/2percent_removed/rotation_targets.csv')"
   ]
  },
  {
   "cell_type": "code",
   "execution_count": 86,
   "metadata": {},
   "outputs": [
    {
     "data": {
      "text/plain": [
       "Index(['# ids', 'rot_voxel', 'cube_x', 'cube_y', 'cube_z'], dtype='object')"
      ]
     },
     "execution_count": 86,
     "metadata": {},
     "output_type": "execute_result"
    }
   ],
   "source": [
    "rot_tgts.keys()"
   ]
  },
  {
   "cell_type": "code",
   "execution_count": 87,
   "metadata": {},
   "outputs": [],
   "source": [
    "tra_uids = np.load('for_training/compact/training_uids.npy')\n",
    "val_uids = np.load('for_training/compact/validation_uids.npy')"
   ]
  },
  {
   "cell_type": "code",
   "execution_count": 88,
   "metadata": {
    "scrolled": true
   },
   "outputs": [],
   "source": [
    "tra_rot_uids =  np.intersect1d(tra_uids, rot_tgts.values[:,0])"
   ]
  },
  {
   "cell_type": "code",
   "execution_count": 89,
   "metadata": {
    "scrolled": true
   },
   "outputs": [],
   "source": [
    "val_rot_uids =  np.intersect1d(val_uids, rot_tgts.values[:,0])"
   ]
  },
  {
   "cell_type": "code",
   "execution_count": 90,
   "metadata": {},
   "outputs": [
    {
     "data": {
      "text/plain": [
       "array([101807., 101808., 101811., ..., 984429., 984431., 984433.])"
      ]
     },
     "execution_count": 90,
     "metadata": {},
     "output_type": "execute_result"
    }
   ],
   "source": [
    "tra_rot_uids"
   ]
  },
  {
   "cell_type": "code",
   "execution_count": 91,
   "metadata": {},
   "outputs": [
    {
     "data": {
      "text/plain": [
       "array([101807., 101808., 101809., ..., 984429., 984431., 984433.])"
      ]
     },
     "execution_count": 91,
     "metadata": {},
     "output_type": "execute_result"
    }
   ],
   "source": [
    "tra_uids"
   ]
  },
  {
   "cell_type": "code",
   "execution_count": 92,
   "metadata": {},
   "outputs": [
    {
     "data": {
      "text/plain": [
       "878"
      ]
     },
     "execution_count": 92,
     "metadata": {},
     "output_type": "execute_result"
    }
   ],
   "source": [
    "(1-rot_tgts[['# ids']].iloc[:,0].isin(tra_uids)).sum()"
   ]
  },
  {
   "cell_type": "code",
   "execution_count": 54,
   "metadata": {},
   "outputs": [
    {
     "name": "stderr",
     "output_type": "stream",
     "text": [
      "/home/vreyesos/.local/lib/python3.6/site-packages/scipy/ndimage/interpolation.py:605: UserWarning: From scipy 0.13.0, the output shape of zoom() is calculated with round() instead of int() - for these inputs the size of the returned array has changed.\n",
      "  \"the returned array has changed.\", UserWarning)\n"
     ]
    }
   ],
   "source": [
    "imgs = np.zeros([tra_rot_uids.shape[0], 224,224,3], dtype=np.float32)\n",
    "for i,uid in enumerate(tra_rot_uids.astype(int)):\n",
    "    try:\n",
    "        dimg = np.load('../Images/{}_RS_depth.npy'.format(uid)) \n",
    "        dimg = dimg*0.00012498664727900177 # now in meters\n",
    "        dimg[dimg>0.75] = 0 # Set stuff too far away to zero\n",
    "        dimg = dimg/0.75\n",
    "        \n",
    "        dimg = np.roll(dimg, 25, axis=1)\n",
    "        dimg = np.roll(dimg, -5, axis=0)\n",
    "        dimg = clipped_zoom(dimg, 1.3)\n",
    "        \n",
    "        dimg = dimg[::2, ::2]\n",
    "        dimg = dimg[-224:, 32:32+224]\n",
    "        \n",
    "        cimg = np.load('../Images/{}_RS_color.npy'.format(uid))[::2,::2]\n",
    "        cimg = cimg[-224:, 32:32+224]\n",
    "        cimg = cimg.astype(np.float32)\n",
    "\n",
    "        cimg[:,:,2] = dimg\n",
    "        imgs[i] = cimg\n",
    "    except:\n",
    "        print('Stopping at iteration {} with uid {} because of an exception'.format(i,uid))\n",
    "        break\n",
    "max_d = imgs[:,:,:,2].max()\n",
    "imgs[:,:,:,2] = imgs[:,:,:,2]/max_d * 255"
   ]
  },
  {
   "cell_type": "code",
   "execution_count": 61,
   "metadata": {},
   "outputs": [],
   "source": [
    "np.save('training_image_rot_data_compact.npy', imgs)"
   ]
  },
  {
   "cell_type": "code",
   "execution_count": 62,
   "metadata": {},
   "outputs": [],
   "source": [
    "imgs = np.zeros([val_rot_uids.shape[0], 224,224,3], dtype=np.float32)\n",
    "for i,uid in enumerate(val_rot_uids.astype(int)):\n",
    "    try:\n",
    "        dimg = np.load('../Images/{}_RS_depth.npy'.format(uid)) \n",
    "        dimg = dimg*0.00012498664727900177 # now in meters\n",
    "        dimg[dimg>0.75] = 0 # Set stuff too far away to zero\n",
    "        dimg = dimg/0.75\n",
    "        \n",
    "        dimg = np.roll(dimg, 25, axis=1)\n",
    "        dimg = np.roll(dimg, -5, axis=0)\n",
    "        dimg = clipped_zoom(dimg, 1.3)\n",
    "        \n",
    "        dimg = dimg[::2, ::2]\n",
    "        dimg = dimg[-224:, 32:32+224]\n",
    "        \n",
    "        cimg = np.load('../Images/{}_RS_color.npy'.format(uid))[::2,::2]\n",
    "        cimg = cimg[-224:, 32:32+224]\n",
    "        cimg = cimg.astype(np.float32)\n",
    "\n",
    "        cimg[:,:,2] = dimg\n",
    "        imgs[i] = cimg\n",
    "    except:\n",
    "        print('Stopping at iteration {} with uid {} because of an exception'.format(i,uid))\n",
    "        break\n",
    "max_d = imgs[:,:,:,2].max()\n",
    "imgs[:,:,:,2] = imgs[:,:,:,2]/max_d * 255"
   ]
  },
  {
   "cell_type": "code",
   "execution_count": 63,
   "metadata": {},
   "outputs": [],
   "source": [
    "np.save('validation_image_rot_data_compact.npy', imgs)"
   ]
  },
  {
   "cell_type": "code",
   "execution_count": 73,
   "metadata": {
    "scrolled": true
   },
   "outputs": [],
   "source": [
    "tra_mask = rot_tgts.iloc[:,0].isin(tra_uids)\n",
    "tra_tgts = rot_tgts[tra_mask][['# ids', 'rot_voxel']].values\n",
    "np.save('training_rot_targets_compact.npy', tra_tgts)\n",
    "tra_pos_inp = rot_tgts[tra_mask][['# ids', 'cube_x', 'cube_y', 'cube_z']].values\n",
    "np.save('training_rot_inputs_compact.npy', tra_pos_inp)"
   ]
  },
  {
   "cell_type": "code",
   "execution_count": 96,
   "metadata": {
    "scrolled": true
   },
   "outputs": [],
   "source": [
    "val_mask = rot_tgts.iloc[:,0].isin(val_uids)\n",
    "val_tgts = rot_tgts[val_mask][['# ids', 'rot_voxel']].values\n",
    "np.save('validation_rot_targets_compact.npy', val_tgts)\n",
    "val_pos_inp = rot_tgts[val_mask][['# ids', 'cube_x', 'cube_y', 'cube_z']].values\n",
    "np.save('validation_rot_inputs_compact.npy', val_pos_inp)"
   ]
  },
  {
   "cell_type": "code",
   "execution_count": 81,
   "metadata": {},
   "outputs": [
    {
     "data": {
      "text/plain": [
       "857"
      ]
     },
     "execution_count": 81,
     "metadata": {},
     "output_type": "execute_result"
    }
   ],
   "source": [
    "np.argmax(val_rot_uids > 956594)"
   ]
  },
  {
   "cell_type": "code",
   "execution_count": 82,
   "metadata": {},
   "outputs": [
    {
     "data": {
      "text/plain": [
       "array([101847, 102884, 103071, 103075, 103204, 103302, 103333, 108979,\n",
       "       108992, 116809, 116825, 123454, 123482, 123543, 125902, 126024,\n",
       "       130074, 132092, 132131, 132181, 132192, 132391, 132453, 134172,\n",
       "       136570, 136573, 136579, 141549, 141573, 141625, 143075, 143200,\n",
       "       143356, 147634, 147713, 147718, 147920, 163835, 163861, 164729,\n",
       "       165322, 165348, 165634, 165849, 166007, 166719, 166758, 168698,\n",
       "       168702, 168763, 168785, 168809, 173079, 173154, 173281, 173387,\n",
       "       173438, 173445, 173894, 176424, 177741, 182907, 186210, 186314,\n",
       "       186390, 187192, 187229, 191865, 191873, 191915, 193349, 193356,\n",
       "       194542, 199730, 202557, 202561, 202599, 202606, 202700, 202741,\n",
       "       203235, 203348, 203397, 203437, 203475, 203509, 220205, 220243,\n",
       "       220304, 223616, 223653, 223661, 223753, 227670, 227671, 227691,\n",
       "       227724, 228475, 228507, 238443, 238820, 240078, 240124, 240150,\n",
       "       241781, 244990, 245056, 255934, 260304, 264528, 264561, 267772,\n",
       "       267780, 267804, 267819, 268841, 268872, 268890, 268926, 280575,\n",
       "       280587, 282054, 307692, 307789, 307803, 308080, 312952, 319709,\n",
       "       319715, 319744, 319909, 333407, 333457, 339100, 343204, 343236,\n",
       "       343478, 343498, 345378, 351238, 351309, 352406, 352436, 356798,\n",
       "       367295, 367343, 368155, 376655, 376698, 377575, 377682, 378625,\n",
       "       381975, 391198, 394734, 401715, 409309, 409373, 414926, 414928,\n",
       "       414996, 415788, 417796, 417902, 421668, 422105, 422106, 422107,\n",
       "       422108, 422109, 422110, 422111, 422112, 422113, 422114, 422115,\n",
       "       422116, 422117, 422118, 422119, 422120, 422121, 422122, 422123,\n",
       "       422139, 428715, 428719, 428784, 446107, 446108, 446110, 446111,\n",
       "       446112, 446113, 446114, 446115, 446116, 446117, 446119, 446120,\n",
       "       446121, 446122, 446123, 446124, 446125, 446126, 446127, 446128,\n",
       "       446129, 446130, 446131, 446132, 446133, 446134, 446135, 446136,\n",
       "       446137, 446138, 446139, 446140, 446141, 446143, 446144, 446145,\n",
       "       446146, 446147, 446148, 446149, 446150, 446151, 446152, 446153,\n",
       "       446154, 446155, 446156, 446158, 446159, 446160, 446161, 446162,\n",
       "       446163, 446164, 446165, 446166, 446167, 446168, 446169, 446170,\n",
       "       446171, 446172, 446173, 446174, 446176, 446177, 446178, 446179,\n",
       "       446180, 446181, 446182, 446183, 446184, 446185, 446186, 446187,\n",
       "       446188, 446189, 446190, 446191, 446192, 446193, 446194, 446195,\n",
       "       446196, 446198, 446199, 446200, 446202, 446203, 446204, 446205,\n",
       "       446206, 446207, 446208, 446209, 446210, 446211, 446212, 446213,\n",
       "       446214, 446215, 446216, 446217, 446218, 446219, 446220, 446221,\n",
       "       446222, 446223, 446224, 446225, 446226, 446227, 446228, 446229,\n",
       "       446230, 446231, 446232, 446233, 446234, 446235, 446236, 446237,\n",
       "       446238, 446239, 446241, 446242, 446243, 446245, 446246, 446247,\n",
       "       446248, 446249, 446250, 446251, 446253, 446254, 446255, 446256,\n",
       "       446257, 446258, 446259, 446260, 446261, 446262, 446263, 446264,\n",
       "       446266, 446267, 446268, 446269, 446270, 446271, 446272, 446273,\n",
       "       446274, 446275, 446276, 446279, 446280, 446281, 446283, 446284,\n",
       "       446285, 446286, 447248, 447389, 447461, 451283, 459450, 459459,\n",
       "       459502, 459531, 459587, 459626, 460097, 460153, 460180, 460200,\n",
       "       462374, 463807, 463815, 463836, 463914, 464035, 464043, 465892,\n",
       "       467992, 468063, 468103, 468106, 468155, 468204, 468227, 469890,\n",
       "       474915, 474930, 474970, 475009, 475021, 475043, 475049, 475322,\n",
       "       475390, 475399, 475422, 475470, 481063, 481193, 481432, 506650,\n",
       "       511021, 534316, 534372, 541432, 541543, 556958, 556959, 556960,\n",
       "       556961, 556962, 556963, 556964, 556965, 556966, 556967, 556968,\n",
       "       556970, 556971, 556972, 556973, 556975, 556976, 556977, 556978,\n",
       "       556979, 556980, 556981, 556982, 556983, 556984, 556985, 556986,\n",
       "       556987, 556988, 556989, 556990, 556991, 556992, 556993, 556994,\n",
       "       556995, 556996, 556997, 556998, 556999, 557000, 557001, 557002,\n",
       "       557003, 557004, 557005, 557006, 557007, 557008, 557009, 557010,\n",
       "       557011, 557012, 557013, 557014, 557015, 557016, 557017, 557018,\n",
       "       557019, 557020, 557022, 557023, 557024, 557025, 557026, 557027,\n",
       "       557029, 557030, 557031, 557032, 557033, 557034, 557035, 557036,\n",
       "       557037, 557038, 557039, 557040, 557041, 557042, 557043, 557044,\n",
       "       557045, 558047, 560300, 560340, 560361, 560842, 561068, 561113,\n",
       "       567634, 567778, 568972, 569012, 573555, 573571, 573630, 573639,\n",
       "       573698, 579195, 585791, 586617, 586671, 586821, 591593, 591628,\n",
       "       591670, 609379, 624778, 624836, 624858, 624865, 636531, 636539,\n",
       "       636540, 636635, 637439, 642687, 642699, 642733, 642748, 642930,\n",
       "       647787, 647873, 647874, 647875, 647876, 647877, 647878, 647879,\n",
       "       647880, 647881, 647882, 647884, 647885, 647887, 647888, 647889,\n",
       "       647890, 647896, 647897, 647898, 647899, 647900, 647902, 647903,\n",
       "       647905, 647907, 647909, 647910, 647911, 647912, 647913, 647914,\n",
       "       647915, 647916, 647917, 647918, 647919, 647921, 647923, 647924,\n",
       "       647926, 647927, 647928, 647929, 647930, 647932, 647933, 647934,\n",
       "       647935, 647936, 647937, 647938, 647939, 647940, 647942, 647944,\n",
       "       670276, 670660, 670661, 670662, 670664, 670665, 670666, 670669,\n",
       "       670672, 670673, 670674, 670675, 670678, 670679, 670680, 670681,\n",
       "       670682, 670683, 670684, 670685, 670688, 670691, 670692, 670693,\n",
       "       670700, 670701, 670702, 670703, 670706, 670707, 670708, 670709,\n",
       "       670711, 670713, 670714, 670715, 670716, 670717, 670718, 670720,\n",
       "       670721, 670722, 670724, 670725, 670726, 670727, 670728, 670729,\n",
       "       670730, 670731, 670732, 670733, 670734, 670735, 670736, 670738,\n",
       "       670739, 670740, 670741, 670742, 670743, 670744, 670745, 670746,\n",
       "       670749, 670750, 670752, 670755, 670757, 670758, 670759, 670760,\n",
       "       670761, 670764, 670765, 670766, 670767, 670768, 670770, 670772,\n",
       "       670775, 670776, 670777, 670778, 670780, 670781, 670782, 670784,\n",
       "       670786, 670790, 671706, 672857, 672858, 672861, 672875, 672896,\n",
       "       686769, 686781, 688454, 692226, 692284, 694417, 694419, 694429,\n",
       "       694574, 694680, 698274, 698294, 699780, 699785, 699803, 699877,\n",
       "       699899, 699988, 699995, 699999, 700003, 701595, 701612, 701659,\n",
       "       701695, 701723, 709518, 709538, 709721, 714226, 714762, 718017,\n",
       "       720363, 720373, 725800, 729462, 736879, 736921, 736958, 737688,\n",
       "       737720, 737809, 737839, 737858, 749043, 749083, 753308, 754871,\n",
       "       756501, 757282, 761218, 761287, 766689, 794685, 794686, 794802,\n",
       "       794893, 801308, 801356, 823004, 829723, 831567, 835595, 835698,\n",
       "       835702, 838540, 844183, 844232, 845599, 847815, 849241, 849293,\n",
       "       852658, 852715, 852747, 852912, 878791, 881006, 881055, 881120,\n",
       "       884142, 885428, 885549, 885557, 892137, 894031, 894322, 895896,\n",
       "       895922, 895944, 896168, 897010, 897011, 897013, 897014, 897015,\n",
       "       897016, 897017, 897018, 897019, 897020, 897021, 897022, 897023,\n",
       "       897024, 897025, 897026, 897027, 897028, 897029, 897030, 897031,\n",
       "       897033, 897034, 914811, 917753, 917778, 924316, 924321, 927300,\n",
       "       927391, 936185, 936227, 936289, 936291, 940251, 953897, 956506,\n",
       "       956507, 956508, 956509, 956510, 956512, 956513, 956514, 956515,\n",
       "       956516, 956517, 956520, 956521, 956522, 956524, 956526, 956527,\n",
       "       956528, 956530, 956532, 956538, 956539, 956540, 956543, 956546,\n",
       "       956547, 956548, 956551, 956552, 956555, 956557, 956558, 956559,\n",
       "       956560, 956562, 956571, 956572, 956573, 956574, 956575, 956576,\n",
       "       956577, 956578, 956580, 956581, 956583, 956586, 956587, 956588,\n",
       "       956593, 956597, 956599, 956601, 958314, 967986, 968049, 976424,\n",
       "       977542, 977601, 977698, 977705, 977736, 981400, 981467, 981515,\n",
       "       981535, 981542, 983641, 983673, 983782])"
      ]
     },
     "execution_count": 82,
     "metadata": {},
     "output_type": "execute_result"
    }
   ],
   "source": [
    "val_rot_uids"
   ]
  },
  {
   "cell_type": "code",
   "execution_count": null,
   "metadata": {},
   "outputs": [],
   "source": []
  }
 ],
 "metadata": {
  "kernelspec": {
   "display_name": "Python 3",
   "language": "python",
   "name": "python3"
  },
  "language_info": {
   "codemirror_mode": {
    "name": "ipython",
    "version": 3
   },
   "file_extension": ".py",
   "mimetype": "text/x-python",
   "name": "python",
   "nbconvert_exporter": "python",
   "pygments_lexer": "ipython3",
   "version": "3.6.7"
  }
 },
 "nbformat": 4,
 "nbformat_minor": 2
}
